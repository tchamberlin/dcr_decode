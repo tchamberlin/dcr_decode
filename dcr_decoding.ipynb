{
 "cells": [
  {
   "cell_type": "markdown",
   "metadata": {},
   "source": [
    "# Decoding DCR Data"
   ]
  },
  {
   "cell_type": "markdown",
   "metadata": {
    "collapsed": true
   },
   "source": [
    "## Background"
   ]
  },
  {
   "cell_type": "markdown",
   "metadata": {},
   "source": [
    "## Concepts"
   ]
  },
  {
   "cell_type": "markdown",
   "metadata": {},
   "source": [
    "### Numpy\n",
    "\n",
    "Reshaping: https://docs.scipy.org/doc/numpy/reference/generated/numpy.reshape.html\n",
    "\n",
    "Slicing: https://docs.scipy.org/doc/numpy-1.13.0/reference/arrays.indexing.html"
   ]
  },
  {
   "cell_type": "markdown",
   "metadata": {
    "collapsed": true
   },
   "source": [
    "## Decoding DCR Data"
   ]
  },
  {
   "cell_type": "markdown",
   "metadata": {},
   "source": [
    "### Shape of `DCR.DATA.DATA`\n",
    "\n",
    "We begin our journey in the DCR FITS file's `DATA` table. Specifically, its `DATA` column.\n",
    "\n",
    "The shape of this data is determined by the physical attributes of the system when the data was taken. So, `DATA` is of a variable shape: `(numIntegrations, numPorts, numPhases)`.\n",
    "\n",
    "Let's try an example:"
   ]
  },
  {
   "cell_type": "code",
   "execution_count": null,
   "metadata": {},
   "outputs": [],
   "source": [
    "import numpy\n",
    "\n",
    "numIntegrations = 3  # The number of integrations that data was taken for\n",
    "numPorts = 4  # The total number of ports that took data\n",
    "numPhases = 4  # The total number of phase states that data was taken during\n",
    "shape = (numIntegrations, numPorts, numPhases)\n",
    "\n",
    "# Okay, so we know our shape. Now let's make some data!\n",
    "# How many entries will we have? Well, that is determined by the product of the shape:\n",
    "numElements = numpy.prod(shape)\n",
    "print(\"An array with shape {} will have {} elements\".format(shape, numElements))\n",
    "\n",
    "data = numpy.arange(numElements)\n",
    "print(\"We now use numpy's reshape to transform this:\")\n",
    "print(data)\n",
    "\n",
    "print(\"Into this:\")\n",
    "data = data.reshape(shape)\n",
    "print(data)"
   ]
  },
  {
   "cell_type": "markdown",
   "metadata": {},
   "source": [
    "### The nature of \"phase\"\n",
    "\n",
    "Great! So we have successfully created an array that is the same shape as the `DATA` column. However, there is a little more to the story.\n",
    "\n",
    "We said before that the shape of the `DATA` column is `(numIntegrations, numPorts, numPhases)`. But what is the nature of \"phase\"? Well, phase, as used here, is actually a _state_, and this state is really a representation of two other states: that of the calibration diode and that of the signal/reference beam selection. This is best explained with a table:\n",
    "\n",
    "| `SIGREF` | `CAL` |      Phase key       | Phase index |\n",
    "|----------|-------|----------------------|-------------|\n",
    "|        0 |     0 | `Signal / No Cal`    |           0 |\n",
    "|        0 |     1 | `Signal / Cal`       |           1 |\n",
    "|        1 |     0 | `Reference / No Cal` |           2 |\n",
    "|        1 |     1 | `Reference / Cal`    |           3 |\n",
    "\n",
    "Note that when `SIGREF` is `0`, it means that the signal beam is selected. Otherewise, it means that the reference beam is selected. When `CAL` is `0` it means the calibration diode is off, otherwise it is on. So, how does that apply? Well, since `DATA`'s shape is based on phase, it means we must _know_ phase in order to do queries on it. This is best demonstrated via example."
   ]
  },
  {
   "cell_type": "markdown",
   "metadata": {},
   "source": [
    "### Slicing `DATA` using NumPy\n",
    "\n",
    "Let's try a few \"queries\" on our `DATA` column to demonstrate how slicing works."
   ]
  },
  {
   "cell_type": "markdown",
   "metadata": {},
   "source": [
    "What data was taken during the first integration?"
   ]
  },
  {
   "cell_type": "code",
   "execution_count": null,
   "metadata": {},
   "outputs": [],
   "source": [
    "print(data[0])"
   ]
  },
  {
   "cell_type": "markdown",
   "metadata": {},
   "source": [
    "In the first integration, what data went through the first port?"
   ]
  },
  {
   "cell_type": "code",
   "execution_count": null,
   "metadata": {},
   "outputs": [],
   "source": [
    "print(data[0][0])"
   ]
  },
  {
   "cell_type": "markdown",
   "metadata": {},
   "source": [
    "In the first port of the first integration, what data was taken while the cal diode was **on** and the **signal** beam was selected? Well, we need to figure out the phase based on SIGREF and CAL. Using the table above we can determine that `phase = 1`. "
   ]
  },
  {
   "cell_type": "code",
   "execution_count": null,
   "metadata": {},
   "outputs": [],
   "source": [
    "print(data[0][0][1])"
   ]
  },
  {
   "cell_type": "markdown",
   "metadata": {},
   "source": [
    "Cool! We can now select the power value associated with a given scan, integration, port, and phase. But what if we want _all_ data taken over the first port? We could iterate through data and select it that way:"
   ]
  },
  {
   "cell_type": "code",
   "execution_count": null,
   "metadata": {},
   "outputs": [],
   "source": [
    "first_port_data = []\n",
    "for integration in data:\n",
    "    first_port_data.append(integration[0])\n",
    "print(first_port_data)"
   ]
  },
  {
   "cell_type": "markdown",
   "metadata": {
    "collapsed": true
   },
   "source": [
    "However, numpy provides a much better solution:"
   ]
  },
  {
   "cell_type": "code",
   "execution_count": null,
   "metadata": {},
   "outputs": [],
   "source": [
    "first_port_data = data[:,0]\n",
    "print(first_port_data)"
   ]
  },
  {
   "cell_type": "raw",
   "metadata": {},
   "source": [
    "What's going on here? Well, we know that `data[:]` selects the whole array:"
   ]
  },
  {
   "cell_type": "code",
   "execution_count": null,
   "metadata": {},
   "outputs": [],
   "source": [
    "assert numpy.all(data == data[:])"
   ]
  },
  {
   "cell_type": "markdown",
   "metadata": {},
   "source": [
    "So, what does `data[:,0]` do? It says, \"Give me the first element of every element in data\".\n",
    "\n",
    "We can model `data` as a list of lists of lists. So, put another way, `data[:,0]` means \"For every list of lists within `data`, give me the first list\". But honestly its best demonstrated by running the code.\n",
    "\n",
    "Let's try a few more.\n",
    "\n",
    "Give me all of the data that was taken over the first port while the calibration diode was on and the signal beam was selected. Again, this is `phase = 1`. So..."
   ]
  },
  {
   "cell_type": "code",
   "execution_count": null,
   "metadata": {},
   "outputs": [],
   "source": [
    "data[:,0,1]"
   ]
  },
  {
   "cell_type": "markdown",
   "metadata": {},
   "source": [
    "Alright, but what if we want all of the data taken over the first port while the calibration diode was on, regardless of the signal/reference beam selection? That's actually somewhat harder, because we can no longer query by a single phase value. By referencing the table again we can see that we want phase values `1` **and** `3`. Again, though, numpy makes this easy:"
   ]
  },
  {
   "cell_type": "code",
   "execution_count": null,
   "metadata": {},
   "outputs": [],
   "source": [
    "data[:,0,[1,3]]"
   ]
  }
 ],
 "metadata": {
  "kernelspec": {
   "display_name": "Python 3",
   "language": "python",
   "name": "python3"
  },
  "language_info": {
   "codemirror_mode": {
    "name": "ipython",
    "version": 3
   },
   "file_extension": ".py",
   "mimetype": "text/x-python",
   "name": "python",
   "nbconvert_exporter": "python",
   "pygments_lexer": "ipython3",
   "version": "3.5.2"
  }
 },
 "nbformat": 4,
 "nbformat_minor": 2
}
